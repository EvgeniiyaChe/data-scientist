{
 "cells": [
  {
   "cell_type": "markdown",
   "metadata": {},
   "source": [
    "**Задание 1**. Даны 2 строки: *long_phrase* и *short_phrase*. \n",
    "Напишите код, который проверяет действительно ли длинная фраза *long_phrase* длиннее короткой *short_phrase*. И выводит *True* или *False* в зависимости от результата сравнения."
   ]
  },
  {
   "cell_type": "code",
   "execution_count": null,
   "metadata": {},
   "outputs": [],
   "source": [
    "long_phrase = 'Насколько проще было бы писать программы, если бы не заказчики'\n",
    "short_phrase = '640Кб должно хватить для любых задач. Билл Гейтс (по легенде)'"
   ]
  },
  {
   "cell_type": "code",
   "execution_count": 1,
   "metadata": {},
   "outputs": [
    {
     "data": {
      "text/plain": [
       "True"
      ]
     },
     "execution_count": 1,
     "metadata": {},
     "output_type": "execute_result"
    }
   ],
   "source": [
    "len ('Насколько проще было бы писать программы, если бы не заказчики') > len ('640Кб должно хватить для любых задач. Билл Гейтс (по легенде)')"
   ]
  },
  {
   "cell_type": "markdown",
   "metadata": {},
   "source": [
    "**Задание 2**. Дано значение объема файла в байтах. Напишите перевод этого значения в мегабайты в формате: \"*Объем файла равен 213.68Mb*\""
   ]
  },
  {
   "cell_type": "code",
   "execution_count": 15,
   "metadata": {},
   "outputs": [
    {
     "name": "stdout",
     "output_type": "stream",
     "text": [
      "Введите значение объема файла в байтах: 24738449\n",
      "Объем файла равен 23.59 Мб\n"
     ]
    }
   ],
   "source": [
    "a = int (input ('Введите значение объема файла в байтах: '))\n",
    "b = a / 1024\n",
    "c = b / 1024\n",
    "print ('Объем файла равен', round (c, 2), 'Мб')"
   ]
  },
  {
   "cell_type": "markdown",
   "metadata": {},
   "source": [
    "**Задание 3**. Разработать приложение для определения знака зодиака по дате рождения. Пример:\n",
    "\n",
    "Введите месяц: март\n",
    "\n",
    "Введите число: 6\n",
    "\n",
    "Вывод:\n",
    "Рыбы"
   ]
  },
  {
   "cell_type": "code",
   "execution_count": 1,
   "metadata": {},
   "outputs": [
    {
     "name": "stdout",
     "output_type": "stream",
     "text": [
      "Введите день: 6\n",
      "Введите месяц: марта\n",
      "Вывод: Рыбы\n"
     ]
    }
   ],
   "source": [
    "day = int (input ('Введите день: '))\n",
    "month = input ('Введите месяц: ')\n",
    "if day in range (21, 31) and month == 'март' or day in range (1, 19) and month == 'апреля':\n",
    "    print ('Вывод: Овен')\n",
    "elif day in range (20, 30) and month == 'апреля' or day in range (1, 20) and month == 'мая':\n",
    "    print ('Вывод: Телец')\n",
    "elif day in range (21, 31) and month == 'мая' or day in range (1, 20) and month == 'июня':\n",
    "    print ('Вывод: Близнецы') \n",
    "elif day in range (21, 30) and month == 'июня' or day in range (1, 22) and month == 'июля':\n",
    "    print ('Вывод: Рак')\n",
    "elif day in range (23, 31) and month == 'июля' or day in range (1, 22) and month == 'августа':\n",
    "    print ('Вывод: Лев')\n",
    "elif day in range (23, 31) and month == 'августа' or day in range (1, 22) and month == 'сентября':\n",
    "    print ('Вывод: Дева')\n",
    "elif day in range (23, 30) and month == 'сентября' or day in range (1, 22) and month == 'октября':\n",
    "    print ('Вывод: Весы')\n",
    "elif day in range (23, 31) and month == 'октября' or day in range (1, 21) and month == 'ноября':\n",
    "    print ('Вывод: Скорпион')\n",
    "elif day in range (22, 30) and month == 'ноября' or day in range (1, 21) and month == 'декабря':\n",
    "    print ('Вывод: Стрелец')\n",
    "elif day in range (22, 31) and month == 'декабря' or day in range (1, 19) and month == 'января':\n",
    "    print ('Вывод: Козерог')\n",
    "elif day in range (20, 31) and month == 'января' or day in range (1, 18) and month == 'февраля':\n",
    "    print ('Вывод: Водолей')\n",
    "elif day in range (19, 29) and month == 'февраля' or day in range (1, 20) and month == 'марта':\n",
    "    print ('Вывод: Рыбы')\n",
    "else:\n",
    "    print ('Неверная дата')"
   ]
  },
  {
   "cell_type": "markdown",
   "metadata": {},
   "source": [
    "**Задание 4**. Нужно разработать приложение для финансового планирования.\n",
    "Приложение учитывает сколько уходит на ипотеку, \"на жизнь\" и сколько нужно отложить на пенсию.\n",
    "Пользователь вводит:\n",
    "- заработанную плату в месяц.\n",
    "- сколько процентов от ЗП уходит на ипотеку.\n",
    "- сколько процентов от ЗП уходит \"на жизнь\".\n",
    "- сколько раз приходит премия в год.\n",
    "\n",
    "Остальная часть заработанной платы откладывается на пенсию.\n",
    "\n",
    "Также пользователю приходит премия в размере зарплаты, от которой половина уходит на отпуск, а вторая половина откладывается.\n",
    "\n",
    "Программа должна учитывать сколько премий было в год.\n",
    "\n",
    "Нужно вывести сколько денег тратит пользователь на ипотеку и сколько он накопит за год.\n",
    "\n",
    "Пример:\n",
    "\n",
    "Введите заработанную плату в месяц: 100000\n",
    "\n",
    "Введите сколько процентов уходит на ипотеку: 30\n",
    "\n",
    "Введите сколько процентов уходит на жизнь: 50\n",
    "\n",
    "Введите количество премий за год: 2\n",
    "\n",
    "Вывод:\n",
    "На ипотеку было потрачено: 360000 рублей\n",
    "Было накоплено: 340000 рублей"
   ]
  },
  {
   "cell_type": "code",
   "execution_count": 2,
   "metadata": {},
   "outputs": [
    {
     "name": "stdout",
     "output_type": "stream",
     "text": [
      "Введите заработанную плату в месяц: 100000\n",
      "Введите сколько процентов от ЗП уходит на ипотеку: 30\n",
      "Введите сколько процентов от ЗП уходит \"на жизнь\": 50\n",
      "Введите сколько раз приходит премия в год: 2\n",
      "Вывод: На ипотеку было потрачено:  360000.0 рублей Было накоплено:  340000.0 рублей\n"
     ]
    }
   ],
   "source": [
    "salary = int (input ('Введите заработанную плату в месяц: '))\n",
    "mortgage = int (input ('Введите сколько процентов от ЗП уходит на ипотеку: '))\n",
    "life = int (input ('Введите сколько процентов от ЗП уходит \"на жизнь\": '))\n",
    "bonus = int (input ('Введите сколько раз приходит премия в год: '))\n",
    "spent = salary * 12 * (mortgage / 100)\n",
    "accumulation = salary * 12 - salary * 12 * ((mortgage + life) / 100) + bonus * salary * (life / 100)\n",
    "print ('Вывод: На ипотеку было потрачено: ', spent, 'рублей', 'Было накоплено: ', accumulation, 'рублей')"
   ]
  }
 ],
 "metadata": {
  "kernelspec": {
   "display_name": "Python 3",
   "language": "python",
   "name": "python3"
  },
  "language_info": {
   "codemirror_mode": {
    "name": "ipython",
    "version": 3
   },
   "file_extension": ".py",
   "mimetype": "text/x-python",
   "name": "python",
   "nbconvert_exporter": "python",
   "pygments_lexer": "ipython3",
   "version": "3.7.3"
  }
 },
 "nbformat": 4,
 "nbformat_minor": 2
}
