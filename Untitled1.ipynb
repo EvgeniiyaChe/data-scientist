{
 "cells": [
  {
   "cell_type": "markdown",
   "metadata": {},
   "source": [
    "Задание 1\n",
    "\n",
    "Даны 2 переменных, в которых хранятся строки произвольной длины: phrase_1 и phrase_2.\n",
    "Напишите код, который проверяет какая из этих строк длиннее.\n",
    "Примеры работы программы:\n",
    "phrase_1 = 'Насколько проще было бы писать программы, если бы не заказчики'\n",
    "phrase_2 = '640Кб должно хватить для любых задач. Билл Гейтс (по легенде)'\n",
    "Результат:\n",
    "Фраза 1 длиннее фразы 2\n",
    "phrase_1 = '640Кб должно хватить для любых задач. Билл Гейтс (по легенде)'\n",
    "phrase_2 = 'Насколько проще было бы писать программы, если бы не заказчики'\n",
    "Результат:\n",
    "Фраза 2 длиннее фразы 1\n",
    "phrase_1 = 'Насколько проще было бы писать программы, если бы не заказчики'\n",
    "phrase_2 = 'Насколько проще было бы писать программы, если бы не заказчики'\n",
    "Результат:\n",
    "Фразы равной длины"
   ]
  },
  {
   "cell_type": "code",
   "execution_count": 16,
   "metadata": {},
   "outputs": [],
   "source": [
    "long_phrase = 'Насколько проще было бы писать программы, если бы не заказчики'\n",
    "short_phrase = '640Кб должно хватить для любых задач. Билл Гейтс (по легенде)'"
   ]
  },
  {
   "cell_type": "code",
   "execution_count": 17,
   "metadata": {},
   "outputs": [
    {
     "name": "stdout",
     "output_type": "stream",
     "text": [
      "Фраза 1 длиннее фразы 2\n"
     ]
    }
   ],
   "source": [
    "len(long_phrase) > len(short_phrase)\n",
    "print ('Фраза 1 длиннее фразы 2')"
   ]
  },
  {
   "cell_type": "code",
   "execution_count": 18,
   "metadata": {},
   "outputs": [],
   "source": [
    "phrase_1 = '640Кб должно хватить для любых задач. Билл Гейтс (по легенде)'\n",
    "phrase_2 = 'Насколько проще было бы писать программы, если бы не заказчики'"
   ]
  },
  {
   "cell_type": "code",
   "execution_count": 19,
   "metadata": {},
   "outputs": [
    {
     "name": "stdout",
     "output_type": "stream",
     "text": [
      "Фраза 2 длиннее фразы 1\n"
     ]
    }
   ],
   "source": [
    "len(long_phrase) > len(short_phrase)\n",
    "print ('Фраза 2 длиннее фразы 1')"
   ]
  },
  {
   "cell_type": "code",
   "execution_count": 20,
   "metadata": {},
   "outputs": [],
   "source": [
    "phrase_1 = 'Насколько проще было бы писать программы, если бы не заказчики'\n",
    "phrase_2 = 'Насколько проще было бы писать программы, если бы не заказчики'"
   ]
  },
  {
   "cell_type": "code",
   "execution_count": 27,
   "metadata": {},
   "outputs": [
    {
     "name": "stdout",
     "output_type": "stream",
     "text": [
      "Фразы равной длины\n"
     ]
    }
   ],
   "source": [
    "len(long_phrase) == len(short_phrase)\n",
    "print ('Фразы равной длины')"
   ]
  },
  {
   "cell_type": "markdown",
   "metadata": {},
   "source": [
    "Задание 2\n",
    "\n",
    "Дана переменная, в которой хранится четырехзначное число (год). Необходимо написать программу, которая выведет, является ли данный год високосным или обычным.\n",
    "Пример работы программы:\n",
    "year = 2020\n",
    "Результат:\n",
    "Високосный год\n",
    "year = 2019\n",
    "Результат:\n",
    "Обычный год"
   ]
  },
  {
   "cell_type": "code",
   "execution_count": 65,
   "metadata": {},
   "outputs": [
    {
     "name": "stdout",
     "output_type": "stream",
     "text": [
      "year = 2021\n",
      "Обычный год\n"
     ]
    }
   ],
   "source": [
    "year = int (input ('year = '))\n",
    "if year % 4 != 0:\n",
    "    print(\"Обычный год\")\n",
    "elif year % 100 == 0:\n",
    "    if year % 400 == 0:\n",
    "        print(\"Високосный год\")\n",
    "    else:\n",
    "        print(\"Обычный год\")\n",
    "else:\n",
    "    print(\"Високосный год\")"
   ]
  },
  {
   "cell_type": "markdown",
   "metadata": {},
   "source": [
    "Задание 3\n",
    "\n",
    "Необходимо написать программу, которая будет запрашивать у пользователя месяц и дату рождения и выводить соответствующий знак зодиака.\n",
    "Пример работы программы:\n",
    "Введите день:\n",
    "30\n",
    "\n",
    "Введите месяц:\n",
    "Август\n",
    "Результат:\n",
    "Ваш знак зодиака: Дева\n",
    "Введите день:\n",
    "29\n",
    "\n",
    "Введите месяц:\n",
    "Октябрь\n",
    "Результат:\n",
    "Ваш знак зодиака: Скорпион"
   ]
  },
  {
   "cell_type": "code",
   "execution_count": 31,
   "metadata": {},
   "outputs": [
    {
     "name": "stdout",
     "output_type": "stream",
     "text": [
      "Введите день: 8\n",
      "Введите месяц: апреля\n",
      "Ваш знак зодиака: Овен\n"
     ]
    }
   ],
   "source": [
    "day = int (input ('Введите день: '))\n",
    "month = input ('Введите месяц: ')\n",
    "if day in range (21, 31) and month == 'март' or day in range (1, 19) and month == 'апреля':\n",
    "    print ('Ваш знак зодиака: Овен')\n",
    "elif day in range (20, 30) and month == 'апреля' or day in range (1, 20) and month == 'мая':\n",
    "    print ('Ваш знак зодиака: Телец')\n",
    "elif day in range (21, 31) and month == 'мая' or day in range (1, 20) and month == 'июня':\n",
    "    print ('Ваш знак зодиака: Близнецы') \n",
    "elif day in range (21, 30) and month == 'июня' or day in range (1, 22) and month == 'июля':\n",
    "    print ('Ваш знак зодиака: Рак')\n",
    "elif day in range (23, 31) and month == 'июля' or day in range (1, 22) and month == 'августа':\n",
    "    print ('Ваш знак зодиака: Лев')\n",
    "elif day in range (23, 31) and month == 'августа' or day in range (1, 22) and month == 'сентября':\n",
    "    print ('Ваш знак зодиака: Дева')\n",
    "elif day in range (23, 30) and month == 'сентября' or day in range (1, 22) and month == 'октября':\n",
    "    print ('Ваш знак зодиака: Весы')\n",
    "elif day in range (23, 31) and month == 'октября' or day in range (1, 21) and month == 'ноября':\n",
    "    print ('Ваш знак зодиака: Скорпион')\n",
    "elif day in range (22, 30) and month == 'ноября' or day in range (1, 21) and month == 'декабря':\n",
    "    print ('Ваш знак зодиака: Стрелец')\n",
    "elif day in range (22, 31) and month == 'декабря' or day in range (1, 19) and month == 'января':\n",
    "    print ('Ваш знак зодиака: Козерог')\n",
    "elif day in range (20, 31) and month == 'января' or day in range (1, 18) and month == 'февраля':\n",
    "    print ('Ваш знак зодиака: Водолей')\n",
    "elif day in range (19, 29) and month == 'февраля' or day in range (1, 20) and month == 'марта':\n",
    "    print ('Ваш знак зодиака: Рыбы')\n",
    "else:\n",
    "    print ('Неверная дата')"
   ]
  },
  {
   "cell_type": "markdown",
   "metadata": {},
   "source": [
    "Задание 4\n",
    "\n",
    "Вам нужно написать программу для подбора упаковок по размерам товара. Размеры хранятся в переменных (в сантиметрах):\n",
    "width = 10\n",
    "length = 205\n",
    "height = 5\n",
    "Используйте следующие правила:\n",
    "если каждое из трех измерений менее 15 сантиметров, то выведите на экран \"Коробка №1\";\n",
    "если хотя бы одно из измерений больше 15 сантиметров, но менее 50 сантиметров, то выводите \"Коробка №2\";\n",
    "если длина товара больше 2 метров, то выводите \"Упаковка для лыж\";\n",
    "во всех остальных случаях выводите \"Стандартная коробка №3\"."
   ]
  },
  {
   "cell_type": "code",
   "execution_count": 62,
   "metadata": {},
   "outputs": [
    {
     "name": "stdout",
     "output_type": "stream",
     "text": [
      "width = 17\n",
      "length = 2\n",
      "height = 2\n",
      "Коробка №2\n"
     ]
    }
   ],
   "source": [
    "width = int (input ('width = '))\n",
    "length = int (input ('length = '))\n",
    "height = int (input ('height = '))\n",
    "if width <= 15 and length <= 15 and height <= 15:\n",
    "    print ('Коробка №1')\n",
    "elif width in range (15, 50) or length in range (15, 50) or height in range (15, 50):\n",
    "    print ('Коробка №2')\n",
    "elif length >= 200:\n",
    "    print ('Упаковка для лыж')\n",
    "else:\n",
    "    print ('Стандартная коробка №3')"
   ]
  }
 ],
 "metadata": {
  "kernelspec": {
   "display_name": "Python 3",
   "language": "python",
   "name": "python3"
  },
  "language_info": {
   "codemirror_mode": {
    "name": "ipython",
    "version": 3
   },
   "file_extension": ".py",
   "mimetype": "text/x-python",
   "name": "python",
   "nbconvert_exporter": "python",
   "pygments_lexer": "ipython3",
   "version": "3.7.3"
  }
 },
 "nbformat": 4,
 "nbformat_minor": 2
}
